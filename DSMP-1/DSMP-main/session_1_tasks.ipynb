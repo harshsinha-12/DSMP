{
  "cells": [
    {
      "cell_type": "markdown",
      "metadata": {
        "id": "A05OG15VqOPF"
      },
      "source": [
        "# Task : Session 1\n",
        "Solve these questions own your own and try to test yourself what you have learned in the session.\n",
        "\n",
        "Happy Learning!"
      ]
    },
    {
      "cell_type": "markdown",
      "metadata": {
        "id": "2doIXf8bqe9_"
      },
      "source": [
        "### Q1 :- Print the given strings as per stated format.\n",
        "\n",
        "**Given strings**:\n",
        "```\n",
        "\"Data\" \"Science\" \"Mentorship\" \"Program\"\n",
        "\"By\" \"CampusX\"\n",
        "```\n",
        "**Output**:\n",
        "```\n",
        "Data-Science-Mentorship-Program-started-By-CampusX\n",
        "```\n",
        "\n",
        "Concept- [Seperator and End]"
      ]
    },
    {
      "cell_type": "code",
      "execution_count": 1,
      "metadata": {
        "id": "-em6d3KErDtp"
      },
      "outputs": [
        {
          "name": "stdout",
          "output_type": "stream",
          "text": [
            "Data-Science-Mentorship-Program-By-CampusX\n"
          ]
        }
      ],
      "source": [
        "# Write your code here\n",
        "strings = [\"Data\", \"Science\", \"Mentorship\", \"Program\", \"By\", \"CampusX\"]\n",
        "output = '-'.join(strings)\n",
        "print(output)"
      ]
    },
    {
      "cell_type": "markdown",
      "metadata": {
        "id": "1KUpN7ZTrC3_"
      },
      "source": [
        "### Q2:- Write a program that will convert celsius value to fahrenheit."
      ]
    },
    {
      "cell_type": "code",
      "execution_count": 2,
      "metadata": {},
      "outputs": [
        {
          "name": "stdout",
          "output_type": "stream",
          "text": [
            "The temperature in Fahrenheit is:  212.0\n"
          ]
        }
      ],
      "source": [
        "# Write your code here\n",
        "c = float(input(\"Enter the temperature in Celsius: \"))\n",
        "f = (c * 9/5) + 32\n",
        "print(\"The temperature in Fahrenheit is: \", f)"
      ]
    },
    {
      "cell_type": "markdown",
      "metadata": {
        "id": "RLrOBBJurLB2"
      },
      "source": [
        "### Q3:- Take 2 numbers as input from the user. Write a program to swap the numbers without using any special python syntax."
      ]
    },
    {
      "cell_type": "code",
      "execution_count": 8,
      "metadata": {
        "id": "yPn7if0TrJ4F"
      },
      "outputs": [
        {
          "name": "stdout",
          "output_type": "stream",
          "text": [
            "Before swapping: a =  6 b = 8\n",
            "After swapping: a =  8 b = 6\n"
          ]
        }
      ],
      "source": [
        "# Write your code here\n",
        "\n",
        "a = int(input(\"Enter the first number: \"))\n",
        "b = int(input(\"Enter the second number: \"))\n",
        "print(\"Before swapping: a = \", a, \"b =\",  b)\n",
        "c = a\n",
        "a = b\n",
        "b = c\n",
        "\n",
        "print(\"After swapping: a = \", a, \"b =\",  b)"
      ]
    },
    {
      "cell_type": "markdown",
      "metadata": {
        "id": "waLCP1bjr7ML"
      },
      "source": [
        "### Q4:- Write a program to find the euclidean distance between two coordinates.Take both the coordinates from the user as input."
      ]
    },
    {
      "cell_type": "code",
      "execution_count": 10,
      "metadata": {
        "id": "Pl1Sv-xnrxnH"
      },
      "outputs": [
        {
          "name": "stdout",
          "output_type": "stream",
          "text": [
            "The distance between two points is:  3.3166247903554\n"
          ]
        }
      ],
      "source": [
        "# Write your code here\n",
        "import math\n",
        "a = int(input(\"Enter the X coordinate: \"))\n",
        "b = int(input(\"Enter the Y coordinate: \"))\n",
        "\n",
        "if a > b:\n",
        "    distance = math.sqrt(a**2 - b**2)\n",
        "else:\n",
        "    distance = math.sqrt(b**2 - a**2)\n",
        "\n",
        "print(\"The distance between two points is: \", distance)"
      ]
    },
    {
      "cell_type": "markdown",
      "metadata": {
        "id": "VLrhg-FRsHjR"
      },
      "source": [
        "### Q5:- Write a program to find the simple interest when the value of principle,rate of interest and time period is provided by the user.\n"
      ]
    },
    {
      "cell_type": "code",
      "execution_count": 11,
      "metadata": {
        "id": "s40DlReZsTmY"
      },
      "outputs": [
        {
          "name": "stdout",
          "output_type": "stream",
          "text": [
            "The simple interest is:  1000.0\n"
          ]
        }
      ],
      "source": [
        "# Write your code here\n",
        "\n",
        "p = int(input(\"Enter the principal amount: \"))\n",
        "r = int(input(\"Enter the rate of interest: \"))\n",
        "t = int(input(\"Enter the time in years: \"))\n",
        "\n",
        "si = (p * r * t) / 100\n",
        "print(\"The simple interest is: \", si)"
      ]
    },
    {
      "cell_type": "markdown",
      "metadata": {
        "id": "LMy0BTUktYKa"
      },
      "source": [
        "### Q6:- Write a program that will tell the number of dogs and chicken are there when the user will provide the value of total heads and legs.\n",
        "\n",
        "For example:\n",
        "Input:\n",
        "heads -> 4\n",
        "legs -> 12\n",
        "<br>\n",
        "Output:\n",
        "dogs -> 2\n",
        "chicken -> 2\n",
        "\n",
        "\n",
        "\n"
      ]
    },
    {
      "cell_type": "code",
      "execution_count": 12,
      "metadata": {
        "id": "XSBvJoA4tXaG"
      },
      "outputs": [
        {
          "name": "stdout",
          "output_type": "stream",
          "text": [
            "The number of cows is:  2.0\n",
            "The number of dogs is:  2.0\n"
          ]
        }
      ],
      "source": [
        "# Write your code here\n",
        "\n",
        "l = int(input(\"Enter the number of legs: \"))\n",
        "h = int(input(\"Enter the number of heads: \"))\n",
        "\n",
        "# 2c + 4d = l\n",
        "# c + d = h\n",
        "# c = h - d\n",
        "# 2(h - d) + 4d = l\n",
        "# 2h - 2d + 4d = l\n",
        "# 2h + 2d = l\n",
        "# 2d = l - 2h\n",
        "\n",
        "d = (l - 2*h) / 2\n",
        "c = h - d\n",
        "print(\"The number of cows is: \", c)\n",
        "print(\"The number of dogs is: \", d)\n"
      ]
    },
    {
      "cell_type": "markdown",
      "metadata": {
        "id": "gJ7C5kZYt4BP"
      },
      "source": [
        "### Q7:- Write a program to find the sum of squares of first n natural numbers where n will be provided by the user."
      ]
    },
    {
      "cell_type": "code",
      "execution_count": 18,
      "metadata": {
        "id": "_tHsmEHzt2nX"
      },
      "outputs": [
        {
          "name": "stdout",
          "output_type": "stream",
          "text": [
            "The sum of squares is:  55\n"
          ]
        }
      ],
      "source": [
        "# Write your code here\n",
        "\n",
        "a = int(input(\"Enter the number: \"))\n",
        "s = 0\n",
        "for i in range(1, a+1):\n",
        "    s += i*i\n",
        "print(\"The sum of squares is: \", s)\n",
        "    "
      ]
    },
    {
      "cell_type": "markdown",
      "metadata": {
        "id": "FHrMM7g-yG1h"
      },
      "source": [
        "### Q8:- Given the first 2 terms of an Arithmetic Series.Find the Nth term of the series. Assume all inputs are provided by the user."
      ]
    },
    {
      "cell_type": "code",
      "execution_count": 19,
      "metadata": {
        "id": "go4_kmZmyVSx"
      },
      "outputs": [
        {
          "name": "stdout",
          "output_type": "stream",
          "text": [
            "The nth term of series with first term 3, and common difference 3 is  30\n"
          ]
        }
      ],
      "source": [
        "# Write your code here\n",
        "\n",
        "a = int(input(\"Enter the first number: \"))\n",
        "b = int(input(\"Enter the second number: \"))\n",
        "n = int(input(\"Enter the number of terms: \"))\n",
        "# an = a + (n-1)d\n",
        "d = b - a\n",
        "\n",
        "an = a + (n-1)*d\n",
        "print(f\"The nth term of series with first term {a}, and common difference {d} is \", an)\n"
      ]
    },
    {
      "cell_type": "markdown",
      "metadata": {
        "id": "QgyRX_es1oum"
      },
      "source": [
        "### Q9:- Given 2 fractions, find the sum of those 2 fractions.Take the numerator and denominator values of the fractions from the user."
      ]
    },
    {
      "cell_type": "code",
      "execution_count": 21,
      "metadata": {
        "id": "X05xqFS1yW16"
      },
      "outputs": [
        {
          "name": "stdout",
          "output_type": "stream",
          "text": [
            "The sum of two fractions is:  1.75\n"
          ]
        }
      ],
      "source": [
        "# Write your code here\n",
        "\n",
        "a = int(input(\"Enter the numerator of first fraction: \"))\n",
        "b = int(input(\"Enter the denominator of first fraction: \"))\n",
        "\n",
        "c = int(input(\"Enter the numerator of second fraction: \"))\n",
        "d = int(input(\"Enter the denominator of second fraction: \"))\n",
        "\n",
        "sum = a/b + c/d\n",
        "print(\"The sum of two fractions is: \", sum)"
      ]
    },
    {
      "cell_type": "markdown",
      "metadata": {
        "id": "eaql38ln13u7"
      },
      "source": [
        "### Q10:- Given the height, width and breadth of a milk tank, you have to find out how many glasses of milk can be obtained? Assume all the inputs are provided by the user.\n",
        "\n",
        "\n",
        "\n",
        "Input:<br>\n",
        "Dimensions of the milk tank<br>\n",
        "H = 20cm, L = 20cm, B = 20cm\n",
        "<br><br>\n",
        "Dimensions of the glass<br>\n",
        "h = 3cm, r = 1cm"
      ]
    },
    {
      "cell_type": "code",
      "execution_count": 22,
      "metadata": {
        "id": "FePZqno74eWv"
      },
      "outputs": [
        {
          "name": "stdout",
          "output_type": "stream",
          "text": [
            "The number of glasses of milk is:  848.0\n"
          ]
        }
      ],
      "source": [
        "# Write your code here\n",
        "import math\n",
        "a = int(input(\"Enter the height of milk tank: \"))\n",
        "b = int(input(\"Enter the length of milk tank: \"))\n",
        "c = int(input(\"Enter the width of milk tank: \"))\n",
        "\n",
        "volume = a*b*c\n",
        "h = int(input(\"Enter the height of glass: \"))\n",
        "r = int(input(\"Enter the radius of glass: \"))\n",
        "volume_glass = math.pi * r**2 * h\n",
        "\n",
        "n = volume // volume_glass\n",
        "print(\"The number of glasses of milk is: \", n)\n"
      ]
    },
    {
      "cell_type": "code",
      "execution_count": null,
      "metadata": {},
      "outputs": [],
      "source": []
    }
  ],
  "metadata": {
    "colab": {
      "provenance": []
    },
    "kernelspec": {
      "display_name": "Python 3",
      "name": "python3"
    },
    "language_info": {
      "codemirror_mode": {
        "name": "ipython",
        "version": 3
      },
      "file_extension": ".py",
      "mimetype": "text/x-python",
      "name": "python",
      "nbconvert_exporter": "python",
      "pygments_lexer": "ipython3",
      "version": "3.11.2"
    }
  },
  "nbformat": 4,
  "nbformat_minor": 0
}
